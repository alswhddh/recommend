{
 "cells": [
  {
   "cell_type": "markdown",
   "metadata": {},
   "source": [
    "### 장르와 테그로 유사한 비슷한 영화 추천하기\n",
    "- TF-IDF\n",
    "- cosine similarity"
   ]
  },
  {
   "cell_type": "code",
   "execution_count": 1,
   "metadata": {},
   "outputs": [],
   "source": [
    "import os\n",
    "import pandas as pd\n",
    "import numpy as np\n",
    "from tqdm import tqdm\n",
    "\n",
    "from sklearn.model_selection import train_test_split\n",
    "from sklearn.metrics import mean_squared_error\n",
    "\n",
    "from collections import Counter"
   ]
  },
  {
   "cell_type": "code",
   "execution_count": 2,
   "metadata": {},
   "outputs": [],
   "source": [
    "path = '../archive/data/movielens/'\n",
    "\n",
    "ratings_df = pd.read_csv(os.path.join(path,'ratings.csv'), encoding='utf-8')\n",
    "movies_df = pd.read_csv(os.path.join(path,'movies.csv'),index_col='movieId', encoding='utf-8')\n",
    "tags_df = pd.read_csv(os.path.join(path,'tags.csv'),encoding='utf-8')"
   ]
  },
  {
   "cell_type": "markdown",
   "metadata": {},
   "source": [
    "### 장르를 이용한 movie representation"
   ]
  },
  {
   "cell_type": "code",
   "execution_count": 3,
   "metadata": {},
   "outputs": [],
   "source": [
    "total_count = len(movies_df)\n",
    "total_genres = set(sum(list(map(lambda x : x.split('|'),movies_df['genres'])),[]))\n",
    "# sum(list , []) 2차원 리스트를 1차원으로 합해줌"
   ]
  },
  {
   "cell_type": "code",
   "execution_count": 4,
   "metadata": {},
   "outputs": [],
   "source": [
    "genre_count = Counter(sum(list(map(lambda x : x.split('|'),movies_df['genres'])),[]))"
   ]
  },
  {
   "cell_type": "code",
   "execution_count": 43,
   "metadata": {},
   "outputs": [],
   "source": [
    "## 카운터 함수를 사용하지않고 genre_count 만들기\n",
    "# genre_count = dict.fromkeys(total_genres)\n",
    "\n",
    "# for each_genre_list in movies_df['genres']:\n",
    "#     for genre in each_genre_list.split('|'):\n",
    "#         if genre_count[genre] == None:\n",
    "#             genre_count[genre] = 1\n",
    "#         else:\n",
    "#             genre_count[genre] = genre_count[genre] + 1"
   ]
  },
  {
   "cell_type": "markdown",
   "metadata": {},
   "source": [
    "<br>\n",
    "자주 나오는 장르는 비슷한 영화를 판단할때 별로 중요하지 않다고 판단하고<br><br>\n",
    "자주 등장하지 않는 장르는 그 영화를 잘 설명해준다고 판단함 => 가중치를 줌\n",
    "<br><br>"
   ]
  },
  {
   "cell_type": "code",
   "execution_count": 5,
   "metadata": {},
   "outputs": [],
   "source": [
    "#장르별 가중치 계산\n",
    "for each_genre in genre_count:\n",
    "    genre_count[each_genre] = np.log10(total_count/genre_count[each_genre])\n",
    "\n",
    "# 전체 갯수 / 해당 장르 갯수를 하고 로그를 취해줘서 어느정도 값을 보정함."
   ]
  },
  {
   "cell_type": "code",
   "execution_count": 6,
   "metadata": {},
   "outputs": [],
   "source": [
    "genre_representation = pd.DataFrame(columns=sorted(total_genres), index=movies_df.index)"
   ]
  },
  {
   "cell_type": "code",
   "execution_count": 7,
   "metadata": {},
   "outputs": [
    {
     "name": "stderr",
     "output_type": "stream",
     "text": [
      "9742it [00:06, 1577.49it/s]\n"
     ]
    }
   ],
   "source": [
    "for index, each_row in tqdm(movies_df.iterrows()):\n",
    "    dict_temp = {i : genre_count[i] for i in each_row['genres'].split('|')}\n",
    "    genre_representation.loc[index] = dict_temp"
   ]
  },
  {
   "cell_type": "markdown",
   "metadata": {},
   "source": [
    "### 태그를 이용한 movie representation"
   ]
  },
  {
   "cell_type": "code",
   "execution_count": 8,
   "metadata": {},
   "outputs": [],
   "source": [
    "tag_column = list(map(lambda x : x.split(',') , tags_df['tag']))\n",
    "unique_tags = set(tags_df['tag'].values)"
   ]
  },
  {
   "cell_type": "code",
   "execution_count": 9,
   "metadata": {},
   "outputs": [],
   "source": [
    "from collections import Counter\n",
    "\n",
    "total_movie_count = len(set(tags_df['movieId']))\n",
    "tag_count_dict = Counter(tags_df['tag'].values)"
   ]
  },
  {
   "cell_type": "code",
   "execution_count": 10,
   "metadata": {},
   "outputs": [],
   "source": [
    "tag_idf = dict()\n",
    "for each_tag in tag_count_dict:\n",
    "    tag_idf[each_tag] = np.log10(total_movie_count/tag_count_dict[each_tag])"
   ]
  },
  {
   "cell_type": "code",
   "execution_count": 11,
   "metadata": {},
   "outputs": [],
   "source": [
    "tag_representation = pd.DataFrame(columns=sorted(unique_tags), index=list(set(tags_df['movieId'])))"
   ]
  },
  {
   "cell_type": "code",
   "execution_count": 12,
   "metadata": {},
   "outputs": [
    {
     "name": "stderr",
     "output_type": "stream",
     "text": [
      "100%|██████████| 1572/1572 [00:01<00:00, 975.50it/s] \n"
     ]
    }
   ],
   "source": [
    "for movieId , group in tqdm(tags_df.groupby(by='movieId')):\n",
    "    dict_temp = {i : tag_idf[i] for i in list(group['tag'])}\n",
    "    tag_representation.loc[movieId] = dict_temp"
   ]
  },
  {
   "cell_type": "code",
   "execution_count": 13,
   "metadata": {},
   "outputs": [],
   "source": [
    "movie_representation = pd.concat([genre_representation, tag_representation], axis=1).fillna(0)"
   ]
  },
  {
   "cell_type": "code",
   "execution_count": 14,
   "metadata": {},
   "outputs": [],
   "source": [
    "from sklearn.metrics.pairwise import cosine_similarity\n",
    "\n",
    "def cos_sim_matrix(a , b):\n",
    "    cos_sim = cosine_similarity(a , b)\n",
    "    result_df = pd.DataFrame(data=cos_sim, index=[a.index])\n",
    "    \n",
    "    return result_df"
   ]
  },
  {
   "cell_type": "code",
   "execution_count": 20,
   "metadata": {},
   "outputs": [],
   "source": [
    "cs_df = cos_sim_matrix(movie_representation,movie_representation)"
   ]
  },
  {
   "cell_type": "code",
   "execution_count": 21,
   "metadata": {},
   "outputs": [],
   "source": [
    "#cs_df.to_pickle('movie_cos.pkl')\n",
    "#movie_cos = pd.read_pickle('movie_cos.pkl')"
   ]
  },
  {
   "cell_type": "code",
   "execution_count": 22,
   "metadata": {},
   "outputs": [
    {
     "data": {
      "text/plain": [
       "1         1.000000\n",
       "122918    0.542857\n",
       "136016    0.503643\n",
       "65577     0.503643\n",
       "2294      0.503643\n",
       "            ...   \n",
       "26195     0.000000\n",
       "26176     0.000000\n",
       "26172     0.000000\n",
       "26169     0.000000\n",
       "7301      0.000000\n",
       "Name: 0, Length: 9742, dtype: float64"
      ]
     },
     "execution_count": 22,
     "metadata": {},
     "output_type": "execute_result"
    }
   ],
   "source": [
    "cs_df[0].sort_values(ascending=False)"
   ]
  },
  {
   "cell_type": "code",
   "execution_count": 34,
   "metadata": {},
   "outputs": [
    {
     "data": {
      "text/plain": [
       "title                                Toy Story (1995)\n",
       "genres    Adventure|Animation|Children|Comedy|Fantasy\n",
       "Name: 1, dtype: object"
      ]
     },
     "execution_count": 34,
     "metadata": {},
     "output_type": "execute_result"
    }
   ],
   "source": [
    "cs_df.loc[1]"
   ]
  },
  {
   "cell_type": "code",
   "execution_count": 33,
   "metadata": {},
   "outputs": [
    {
     "name": "stdout",
     "output_type": "stream",
     "text": [
      "title     Guardians of the Galaxy 2 (2017)\n",
      "genres             Action|Adventure|Sci-Fi\n",
      "Name: 122918, dtype: object\n",
      "title                        The Good Dinosaur (2015)\n",
      "genres    Adventure|Animation|Children|Comedy|Fantasy\n",
      "Name: 136016, dtype: object\n",
      "title                  Tale of Despereaux, The (2008)\n",
      "genres    Adventure|Animation|Children|Comedy|Fantasy\n",
      "Name: 65577, dtype: object\n",
      "title                                     Antz (1998)\n",
      "genres    Adventure|Animation|Children|Comedy|Fantasy\n",
      "Name: 2294, dtype: object\n"
     ]
    }
   ],
   "source": [
    "print(cs_df.loc[122918])\n",
    "print(cs_df.loc[136016])\n",
    "print(cs_df.loc[65577])\n",
    "print(cs_df.loc[2294])"
   ]
  },
  {
   "cell_type": "code",
   "execution_count": null,
   "metadata": {},
   "outputs": [],
   "source": []
  }
 ],
 "metadata": {
  "kernelspec": {
   "display_name": "Python 3",
   "language": "python",
   "name": "python3"
  },
  "language_info": {
   "codemirror_mode": {
    "name": "ipython",
    "version": 3
   },
   "file_extension": ".py",
   "mimetype": "text/x-python",
   "name": "python",
   "nbconvert_exporter": "python",
   "pygments_lexer": "ipython3",
   "version": "3.7.6"
  }
 },
 "nbformat": 4,
 "nbformat_minor": 4
}
