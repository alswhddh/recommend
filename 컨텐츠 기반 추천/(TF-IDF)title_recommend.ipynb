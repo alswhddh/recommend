{
 "cells": [
  {
   "cell_type": "code",
   "execution_count": 12,
   "metadata": {},
   "outputs": [],
   "source": [
    "import pandas as pd\n",
    "import numpy as np\n",
    "from sklearn.feature_extraction.text import TfidfVectorizer\n",
    "from sklearn.metrics.pairwise import cosine_similarity"
   ]
  },
  {
   "cell_type": "code",
   "execution_count": 13,
   "metadata": {},
   "outputs": [],
   "source": [
    "import sqlite3\n",
    "\n",
    "dbpath = \"./thumbnail.db\" \n",
    "\n",
    "conn = sqlite3.connect(dbpath)\n",
    "cur = conn.cursor() "
   ]
  },
  {
   "cell_type": "code",
   "execution_count": 14,
   "metadata": {},
   "outputs": [],
   "source": [
    "df = pd.read_sql_query(\"SELECT * FROM thumbnail\", conn) "
   ]
  },
  {
   "cell_type": "code",
   "execution_count": 15,
   "metadata": {},
   "outputs": [],
   "source": [
    "data = df[[\"title\"]]"
   ]
  },
  {
   "cell_type": "code",
   "execution_count": 34,
   "metadata": {},
   "outputs": [
    {
     "data": {
      "text/plain": [
       "' ROTC 음악회  테너 김호중  베이스 권순동  향수  정지용 시 김희갑 곡 '"
      ]
     },
     "execution_count": 34,
     "metadata": {},
     "output_type": "execute_result"
    }
   ],
   "source": [
    "data['title'][10]"
   ]
  },
  {
   "cell_type": "code",
   "execution_count": 17,
   "metadata": {},
   "outputs": [],
   "source": [
    "tfidf = TfidfVectorizer(stop_words='english')"
   ]
  },
  {
   "cell_type": "code",
   "execution_count": 18,
   "metadata": {},
   "outputs": [
    {
     "name": "stdout",
     "output_type": "stream",
     "text": [
      "(1752, 8095)\n"
     ]
    }
   ],
   "source": [
    "tfidf_matrix = tfidf.fit_transform(data['title'])\n",
    "print(tfidf_matrix.shape)"
   ]
  },
  {
   "cell_type": "code",
   "execution_count": 20,
   "metadata": {},
   "outputs": [
    {
     "data": {
      "text/plain": [
       "(1752, 1752)"
      ]
     },
     "execution_count": 20,
     "metadata": {},
     "output_type": "execute_result"
    }
   ],
   "source": [
    "cosine_matrix = cosine_similarity(tfidf_matrix, tfidf_matrix)\n",
    "cosine_matrix.shape"
   ]
  },
  {
   "cell_type": "code",
   "execution_count": 21,
   "metadata": {},
   "outputs": [
    {
     "data": {
      "text/plain": [
       "array([[1.   , 0.   , 0.   , ..., 0.   , 0.   , 0.   ],\n",
       "       [0.   , 1.   , 0.   , ..., 0.   , 0.   , 0.   ],\n",
       "       [0.   , 0.   , 1.   , ..., 0.   , 0.   , 0.   ],\n",
       "       ...,\n",
       "       [0.   , 0.   , 0.   , ..., 1.   , 0.262, 0.   ],\n",
       "       [0.   , 0.   , 0.   , ..., 0.262, 1.   , 0.   ],\n",
       "       [0.   , 0.   , 0.   , ..., 0.   , 0.   , 1.   ]])"
      ]
     },
     "execution_count": 21,
     "metadata": {},
     "output_type": "execute_result"
    }
   ],
   "source": [
    "np.round(cosine_matrix, 4)"
   ]
  },
  {
   "cell_type": "code",
   "execution_count": 22,
   "metadata": {},
   "outputs": [],
   "source": [
    "# movie title와 id를 매핑할 dictionary를 생성해줍니다. \n",
    "title2idx = {}\n",
    "for i, c in enumerate(data['title']): \n",
    "    title2idx[i] = c\n",
    "\n",
    "# id와 movie title를 매핑할 dictionary를 생성해줍니다. \n",
    "idx2title = {}\n",
    "for i, c in title2idx.items(): \n",
    "    idx2title[c] = i"
   ]
  },
  {
   "cell_type": "code",
   "execution_count": 37,
   "metadata": {},
   "outputs": [
    {
     "data": {
      "text/plain": [
       "[(353, 0.14752676803650316),\n",
       " (35, 0.12313417641487309),\n",
       " (130, 0.10843284505088231),\n",
       " (14, 0.10780769146882162),\n",
       " (127, 0.10048776968130432),\n",
       " (413, 0.09514882383813604),\n",
       " (409, 0.09508545613946681),\n",
       " (393, 0.09440321417467501),\n",
       " (394, 0.09359587954945964),\n",
       " (200, 0.09266696510446892)]"
      ]
     },
     "execution_count": 37,
     "metadata": {},
     "output_type": "execute_result"
    }
   ],
   "source": [
    "idx = idx2title['김경재  박근혜 구하기   삼성 출연금 8천억  노무현이 해먹었다']\n",
    "sim_scores = [(i, c) for i, c in enumerate(cosine_matrix[idx]) if i != idx] # 자기 자신을 제외한 영화들의 유사도 및 인덱스를 추출 \n",
    "sim_scores = sorted(sim_scores, key = lambda x: x[1], reverse=True) # 유사도가 높은 순서대로 정렬 \n",
    "sim_scores[0:10] # 상위 10개의 인덱스와 유사도를 추출 "
   ]
  },
  {
   "cell_type": "code",
   "execution_count": 38,
   "metadata": {},
   "outputs": [
    {
     "data": {
      "text/plain": [
       "[('미국도 박근혜 결단 지지  이명박 박근혜 잡으려다가 문재인 잡는 통일부', 0.14752676803650316),\n",
       " (' 김경재 격정토로  김대중은 우파인 한화갑과 나를   ', 0.12313417641487309),\n",
       " ('박근혜   하야하라   퇴진하라  듣고 난 후 표정', 0.10843284505088231),\n",
       " ('김경재 총재   탄핵광풍 배후 JTBC 회장 홍석현을 만났더니   ', 0.10780769146882162),\n",
       " ('박근혜 서문시장 방문  믿기지 않는 장면', 0.10048776968130432),\n",
       " ('박근혜 대통령 탄핵은 답 정 너  정규재 뉴스칼럼  3월 8일 ', 0.09514882383813604),\n",
       " ('김경재 前 총재   위기의 대한민국  해결책 있다   정규재 주필  펜앤초대석   7월 9일 ', 0.09508545613946681),\n",
       " ('정규재 특별대담 박근혜 前대통령의 육성 반격 2017년1월25일 ', 0.09440321417467501),\n",
       " ('고영태 녹음파일2  박근혜 죽이고   정규재 칼럼  2017년2월16일 ', 0.09359587954945964),\n",
       " ('서울의소리 김을동 응징취재   박근혜 밑에서 권력을 누리더니   왜   ', 0.09266696510446892)]"
      ]
     },
     "execution_count": 38,
     "metadata": {},
     "output_type": "execute_result"
    }
   ],
   "source": [
    "sim_scores = [(title2idx[i], score) for i, score in sim_scores[0:10]]\n",
    "sim_scores"
   ]
  },
  {
   "cell_type": "code",
   "execution_count": null,
   "metadata": {},
   "outputs": [],
   "source": []
  },
  {
   "cell_type": "code",
   "execution_count": null,
   "metadata": {},
   "outputs": [],
   "source": []
  }
 ],
 "metadata": {
  "kernelspec": {
   "display_name": "Python 3",
   "language": "python",
   "name": "python3"
  },
  "language_info": {
   "codemirror_mode": {
    "name": "ipython",
    "version": 3
   },
   "file_extension": ".py",
   "mimetype": "text/x-python",
   "name": "python",
   "nbconvert_exporter": "python",
   "pygments_lexer": "ipython3",
   "version": "3.7.6"
  }
 },
 "nbformat": 4,
 "nbformat_minor": 4
}
